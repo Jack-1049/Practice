{
  "nbformat": 4,
  "nbformat_minor": 0,
  "metadata": {
    "colab": {
      "provenance": [],
      "authorship_tag": "ABX9TyOfB5aj7O4XJM4jO18mctid",
      "include_colab_link": true
    },
    "kernelspec": {
      "name": "python3",
      "display_name": "Python 3"
    }
  },
  "cells": [
    {
      "cell_type": "markdown",
      "metadata": {
        "id": "view-in-github",
        "colab_type": "text"
      },
      "source": [
        "<a href=\"https://colab.research.google.com/github/Jack-1049/Practice/blob/main/Pattern_count.ipynb\" target=\"_parent\"><img src=\"https://colab.research.google.com/assets/colab-badge.svg\" alt=\"Open In Colab\"/></a>"
      ]
    },
    {
      "cell_type": "code",
      "metadata": {
        "id": "yYeeAZ6j5mL4"
      },
      "source": [
        "import pandas as pd"
      ],
      "execution_count": null,
      "outputs": []
    },
    {
      "cell_type": "code",
      "metadata": {
        "colab": {
          "base_uri": "https://localhost:8080/"
        },
        "id": "Kiazf284YMqV",
        "outputId": "111c3039-8763-49a3-ed7d-0e3cb58d762f"
      },
      "source": [
        "pip install Bio"
      ],
      "execution_count": null,
      "outputs": [
        {
          "output_type": "stream",
          "text": [
            "Requirement already satisfied: Bio in /usr/local/lib/python3.6/dist-packages (0.1.9)\n",
            "Requirement already satisfied: requests in /usr/local/lib/python3.6/dist-packages (from Bio) (2.23.0)\n",
            "Requirement already satisfied: biopython in /usr/local/lib/python3.6/dist-packages (from Bio) (1.78)\n",
            "Requirement already satisfied: parasail in /usr/local/lib/python3.6/dist-packages (from Bio) (1.2.1)\n",
            "Requirement already satisfied: certifi>=2017.4.17 in /usr/local/lib/python3.6/dist-packages (from requests->Bio) (2020.11.8)\n",
            "Requirement already satisfied: chardet<4,>=3.0.2 in /usr/local/lib/python3.6/dist-packages (from requests->Bio) (3.0.4)\n",
            "Requirement already satisfied: urllib3!=1.25.0,!=1.25.1,<1.26,>=1.21.1 in /usr/local/lib/python3.6/dist-packages (from requests->Bio) (1.24.3)\n",
            "Requirement already satisfied: idna<3,>=2.5 in /usr/local/lib/python3.6/dist-packages (from requests->Bio) (2.10)\n",
            "Requirement already satisfied: numpy in /usr/local/lib/python3.6/dist-packages (from biopython->Bio) (1.18.5)\n",
            "Requirement already satisfied: wheel in /usr/local/lib/python3.6/dist-packages (from parasail->Bio) (0.35.1)\n"
          ],
          "name": "stdout"
        }
      ]
    },
    {
      "cell_type": "code",
      "metadata": {
        "id": "aAvhu4ZkYgKe"
      },
      "source": [
        "from Bio import SeqIO, SearchIO"
      ],
      "execution_count": null,
      "outputs": []
    },
    {
      "cell_type": "code",
      "metadata": {
        "id": "jQZ6IjEf-rVN"
      },
      "source": [
        "Text = open(\"count_pattern/Text.txt\")\n"
      ],
      "execution_count": null,
      "outputs": []
    },
    {
      "cell_type": "code",
      "metadata": {
        "colab": {
          "base_uri": "https://localhost:8080/"
        },
        "id": "-xFe3YvhBZOe",
        "outputId": "d69e6fc9-047f-4175-ed2d-3b836b1ae41c"
      },
      "source": [
        "print(Text)"
      ],
      "execution_count": null,
      "outputs": [
        {
          "output_type": "stream",
          "text": [
            "<_io.TextIOWrapper name='count_pattern/Text.txt' mode='r' encoding='UTF-8'>\n"
          ],
          "name": "stdout"
        }
      ]
    },
    {
      "cell_type": "code",
      "metadata": {
        "id": "myn6d0w2dUE8"
      },
      "source": [],
      "execution_count": null,
      "outputs": []
    },
    {
      "cell_type": "code",
      "metadata": {
        "id": "SKixpzC0HMK8"
      },
      "source": [
        "Pattern = pd.read_csv(\"count_pattern/pattern.txt\")\n",
        "Pattern"
      ],
      "execution_count": null,
      "outputs": []
    },
    {
      "cell_type": "code",
      "metadata": {
        "id": "l-Hb9DkOHjlb"
      },
      "source": [
        "def PatternCount(Text, Pattern):\n",
        "    count = 0\n",
        "    for i in range(len(Text)-len(Pattern)+1):\n",
        "        if Text[i:i+len(Pattern)] == Pattern:\n",
        "            count = count+1\n",
        "    return count"
      ],
      "execution_count": null,
      "outputs": []
    },
    {
      "cell_type": "code",
      "metadata": {
        "id": "lgwPy3XyQmw_"
      },
      "source": [
        "len(Pattern)"
      ],
      "execution_count": null,
      "outputs": []
    }
  ]
}